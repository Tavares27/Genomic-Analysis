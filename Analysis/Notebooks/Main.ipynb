{
 "cells": [
  {
   "cell_type": "code",
   "execution_count": 11,
   "id": "e9be5614",
   "metadata": {},
   "outputs": [
    {
     "name": "stdout",
     "output_type": "stream",
     "text": [
      "🔬 Análise do Genoma de E. coli\n",
      "----------------------------------------\n",
      "ID: NC_000913.3\n",
      "Descrição: NC_000913.3 Escherichia coli str. K-12 substr. MG1655, complete genome\n",
      "Tamanho da sequência: 4,641,652 bases\n",
      "Trecho inicial: AGCTTTTCATTCTGACTGCAACGGGCAATATGTCTCTGTGTGGATTAAAAAAAGAGTGTCTGATAGCAGCTTCTGAACTGGTTACCTGCCGTGAGTAAAT...\n",
      "GC content: 50.79%\n",
      "AT content: 49.21%\n"
     ]
    }
   ],
   "source": [
    "from Bio import SeqIO\n",
    "\n",
    "# Caminho para o arquivo FASTA\n",
    "fasta_path = \"../Data/ecoli.fasta\"\n",
    "\n",
    "# Lê a sequência do arquivo\n",
    "record = SeqIO.read(fasta_path, \"fasta\")\n",
    "\n",
    "# Informações básicas\n",
    "print(\"🔬 Análise do Genoma de E. coli\")\n",
    "print(\"-\" * 40)\n",
    "print(f\"ID: {record.id}\")\n",
    "print(f\"Descrição: {record.description}\")\n",
    "print(f\"Tamanho da sequência: {len(record.seq):,} bases\")\n",
    "print(f\"Trecho inicial: {record.seq[:100]}...\")\n",
    "\n",
    "# Cálculo de GC%\n",
    "gc_count = record.seq.count(\"G\") + record.seq.count(\"C\")\n",
    "gc_percent = gc_count / len(record.seq) * 100\n",
    "print(f\"GC content: {gc_percent:.2f}%\")\n",
    "\n",
    "# Cálculo de AT%\n",
    "at_count = record.seq.count(\"A\") + record.seq.count(\"T\")\n",
    "at_percent = at_count / len(record.seq) * 100\n",
    "print(f\"AT content: {at_percent:.2f}%\")\n"
   ]
  },
  {
   "cell_type": "code",
   "execution_count": 12,
   "id": "09a41bb8",
   "metadata": {},
   "outputs": [
    {
     "name": "stdout",
     "output_type": "stream",
     "text": [
      "\n",
      "Contagem de bases nitrogenadas:\n",
      "A: 1,142,742 (24.62%)\n",
      "T: 1,141,382 (24.59%)\n",
      "G: 1,177,437 (25.37%)\n",
      "C: 1,180,091 (25.42%)\n"
     ]
    }
   ],
   "source": [
    "#Cálculo de Cada Base Nitrogenada\n",
    "base_counts = {\n",
    "    \"A\": record.seq.count(\"A\"),\n",
    "    \"T\": record.seq.count(\"T\"),\n",
    "    \"G\": record.seq.count(\"G\"),\n",
    "    \"C\": record.seq.count(\"C\"),\n",
    "}\n",
    "\n",
    "print(\"\\nContagem de bases nitrogenadas:\")\n",
    "for base, count in base_counts.items():\n",
    "    print(f\"{base}: {count:,} ({(count / len(record.seq) * 100):.2f}%)\")"
   ]
  },
  {
   "cell_type": "code",
   "execution_count": 16,
   "id": "ba04ef2a",
   "metadata": {},
   "outputs": [
    {
     "name": "stdout",
     "output_type": "stream",
     "text": [
      "\n",
      "Contagem de pares ligados:\n",
      "A-T: 521,974 (11.25%)\n",
      "G-C: 730,895 (15.75%)\n"
     ]
    }
   ],
   "source": [
    "# Cálculo de Pares Ligados\n",
    "\n",
    "from collections import Counter\n",
    "\n",
    "pares = {\n",
    "    \"A-T\": record.seq.count(\"AT\") + record.seq.count(\"TA\"),\n",
    "    \"G-C\": record.seq.count(\"GC\") + record.seq.count(\"CG\"),\n",
    "}\n",
    "\n",
    "print(\"\\nContagem de pares ligados:\")\n",
    "for par, count in pares.items():\n",
    "    print(f\"{par}: {count:,} ({(count / (len(record.seq) - 1) * 100):.2f}%)\")\n"
   ]
  },
  {
   "cell_type": "code",
   "execution_count": 18,
   "id": "412083d3",
   "metadata": {},
   "outputs": [
    {
     "name": "stdout",
     "output_type": "stream",
     "text": [
      "Número de ocorrências de ATG: 76282, 1.64%\n"
     ]
    }
   ],
   "source": [
    "# Cálculo de sequências específicas \n",
    "\n",
    "seq = \"ATG\"\n",
    "seq_count = record.seq.count(seq)\n",
    "print(f\"Número de ocorrências de {seq}: {seq_count}, {seq_count / len(record.seq) * 100:.2f}%\")"
   ]
  },
  {
   "cell_type": "code",
   "execution_count": 26,
   "id": "4c44e4c4",
   "metadata": {},
   "outputs": [
    {
     "name": "stdout",
     "output_type": "stream",
     "text": [
      "\n",
      "Total de regiões ricas em GC: 30\n",
      "Total de regiões ricas em AT: 2384\n",
      "Regiões ricas em GC: ['Região 283409', 'Região 283410', 'Região 283411', 'Região 283412', 'Região 283413', 'Região 283414', 'Região 283415', 'Região 283418', 'Região 283419', 'Região 283420', 'Região 283421', 'Região 283422', 'Região 283434', 'Região 283442', 'Região 283443', 'Região 283444', 'Região 283445', 'Região 283446', 'Região 283454', 'Região 283455', 'Região 283474', 'Região 283475', 'Região 283476', 'Região 283477', 'Região 283478', 'Região 283481', 'Região 283482', 'Região 283483', 'Região 283484', 'Região 283490']\n",
      "Regiões ricas em AT: ['Região 583057', 'Região 583058', 'Região 583059', 'Região 583060', 'Região 583061', 'Região 583062', 'Região 583063', 'Região 583064', 'Região 583065', 'Região 583066', 'Região 583067', 'Região 583068', 'Região 583069', 'Região 583070', 'Região 583071', 'Região 583072', 'Região 583073', 'Região 583074', 'Região 583075', 'Região 583076', 'Região 583077', 'Região 583078', 'Região 583079', 'Região 583080', 'Região 583081', 'Região 583082', 'Região 583083', 'Região 583084', 'Região 583085', 'Região 583086', 'Região 583087', 'Região 583088', 'Região 583089', 'Região 583090', 'Região 583091', 'Região 583092', 'Região 583093', 'Região 583094', 'Região 583095', 'Região 583096', 'Região 583097', 'Região 583098', 'Região 583099', 'Região 583100', 'Região 583101', 'Região 583102', 'Região 583103', 'Região 583104', 'Região 583105', 'Região 583106', 'Região 583107', 'Região 583108', 'Região 583109', 'Região 583110', 'Região 583111', 'Região 583112', 'Região 583113', 'Região 583114', 'Região 583115', 'Região 583116', 'Região 583117', 'Região 583118', 'Região 583119', 'Região 583120', 'Região 583121', 'Região 583122', 'Região 583123', 'Região 583124', 'Região 583125', 'Região 583126', 'Região 583127', 'Região 583128', 'Região 583129', 'Região 583130', 'Região 583131', 'Região 583132', 'Região 583133', 'Região 583134', 'Região 583135', 'Região 583136', 'Região 583137', 'Região 583138', 'Região 583139', 'Região 583140', 'Região 583141', 'Região 583142', 'Região 583143', 'Região 583144', 'Região 583145', 'Região 583146', 'Região 583147', 'Região 583148', 'Região 583149', 'Região 583150', 'Região 583151', 'Região 583152', 'Região 583153', 'Região 583154', 'Região 583155', 'Região 583156', 'Região 583157', 'Região 583158', 'Região 583159', 'Região 583160', 'Região 583161', 'Região 583162', 'Região 583163', 'Região 583164', 'Região 583165', 'Região 583166', 'Região 583167', 'Região 583168', 'Região 583169', 'Região 583170', 'Região 583171', 'Região 583172', 'Região 583173', 'Região 583174', 'Região 583175', 'Região 583176', 'Região 583177', 'Região 583178', 'Região 583179', 'Região 583180', 'Região 583181', 'Região 583182', 'Região 583183', 'Região 583184', 'Região 583185', 'Região 583186', 'Região 583187', 'Região 583188', 'Região 583189', 'Região 583190', 'Região 583191', 'Região 583192', 'Região 583193', 'Região 583194', 'Região 583195', 'Região 583196', 'Região 583197', 'Região 583198', 'Região 583199', 'Região 583200', 'Região 583201', 'Região 583202', 'Região 583203', 'Região 583204', 'Região 583205', 'Região 583206', 'Região 583207', 'Região 583208', 'Região 583209', 'Região 583210', 'Região 583211', 'Região 583212', 'Região 583213', 'Região 583214', 'Região 583215', 'Região 583216', 'Região 583217', 'Região 583218', 'Região 583219', 'Região 583220', 'Região 583221', 'Região 583222', 'Região 583223', 'Região 583224', 'Região 583225', 'Região 583226', 'Região 583227', 'Região 583228', 'Região 583229', 'Região 583230', 'Região 583231', 'Região 583232', 'Região 583233', 'Região 583234', 'Região 583235', 'Região 583236', 'Região 583237', 'Região 583238', 'Região 583239', 'Região 583240', 'Região 583241', 'Região 583242', 'Região 583243', 'Região 583244', 'Região 583245', 'Região 583246', 'Região 583247', 'Região 583248', 'Região 583249', 'Região 583250', 'Região 583251', 'Região 583252', 'Região 583253', 'Região 583254', 'Região 583255', 'Região 583256', 'Região 583257', 'Região 583258', 'Região 583259', 'Região 583260', 'Região 583261', 'Região 583262', 'Região 583263', 'Região 583264', 'Região 583265', 'Região 583266', 'Região 583267', 'Região 583268', 'Região 583269', 'Região 583270', 'Região 583271', 'Região 583272', 'Região 583273', 'Região 583274', 'Região 583275', 'Região 583276', 'Região 583277', 'Região 583278', 'Região 583279', 'Região 583280', 'Região 583281', 'Região 583282', 'Região 583283', 'Região 583284', 'Região 583285', 'Região 583286', 'Região 583287', 'Região 583288', 'Região 583289', 'Região 583290', 'Região 583291', 'Região 583292', 'Região 583293', 'Região 583294', 'Região 583295', 'Região 583296', 'Região 583297', 'Região 583298', 'Região 583299', 'Região 583300', 'Região 583301', 'Região 583302', 'Região 583303', 'Região 583304', 'Região 583305', 'Região 583306', 'Região 583307', 'Região 583308', 'Região 583309', 'Região 583310', 'Região 583311', 'Região 583312', 'Região 583313', 'Região 583314', 'Região 583315', 'Região 583316', 'Região 583317', 'Região 583318', 'Região 583319', 'Região 583320', 'Região 583321', 'Região 583322', 'Região 583323', 'Região 583324', 'Região 583325', 'Região 583326', 'Região 583327', 'Região 583328', 'Região 583329', 'Região 583330', 'Região 583331', 'Região 583332', 'Região 583333', 'Região 583334', 'Região 583335', 'Região 583336', 'Região 583337', 'Região 583338', 'Região 583339', 'Região 583340', 'Região 583341', 'Região 583342', 'Região 583343', 'Região 583344', 'Região 583345', 'Região 583346', 'Região 583347', 'Região 583348', 'Região 583349', 'Região 583350', 'Região 583351', 'Região 583352', 'Região 583353', 'Região 583354', 'Região 583355', 'Região 583356', 'Região 583357', 'Região 583358', 'Região 583359', 'Região 583360', 'Região 583361', 'Região 583362', 'Região 583363', 'Região 583364', 'Região 583365', 'Região 583366', 'Região 583367', 'Região 583368', 'Região 583369', 'Região 583370', 'Região 583371', 'Região 583372', 'Região 583373', 'Região 583374', 'Região 583375', 'Região 583376', 'Região 583377', 'Região 583378', 'Região 583379', 'Região 583380', 'Região 583381', 'Região 583382', 'Região 583383', 'Região 583384', 'Região 583385', 'Região 583386', 'Região 583387', 'Região 583388', 'Região 583389', 'Região 583390', 'Região 583391', 'Região 583392', 'Região 583393', 'Região 583394', 'Região 583395', 'Região 583396', 'Região 583397', 'Região 583398', 'Região 583399', 'Região 583400', 'Região 583401', 'Região 583402', 'Região 583403', 'Região 583404', 'Região 583405', 'Região 583406', 'Região 583407', 'Região 583408', 'Região 583409', 'Região 583410', 'Região 583411', 'Região 583412', 'Região 583413', 'Região 583414', 'Região 583415', 'Região 583416', 'Região 583417', 'Região 583418', 'Região 583419', 'Região 583420', 'Região 583421', 'Região 583422', 'Região 583423', 'Região 583424', 'Região 583425', 'Região 583426', 'Região 583427', 'Região 583428', 'Região 583429', 'Região 583430', 'Região 583431', 'Região 583432', 'Região 583433', 'Região 583434', 'Região 583435', 'Região 583436', 'Região 583437', 'Região 583438', 'Região 583439', 'Região 583440', 'Região 583441', 'Região 583442', 'Região 583443', 'Região 583444', 'Região 583445', 'Região 583446', 'Região 583447', 'Região 583448', 'Região 583449', 'Região 583450', 'Região 583451', 'Região 583452', 'Região 583453', 'Região 583454', 'Região 583455', 'Região 583456', 'Região 583457', 'Região 583458', 'Região 583459', 'Região 583460', 'Região 583461', 'Região 583462', 'Região 583463', 'Região 583464', 'Região 583465', 'Região 583466', 'Região 583467', 'Região 583468', 'Região 583469', 'Região 583470', 'Região 583471', 'Região 583472', 'Região 583473', 'Região 583474', 'Região 583475', 'Região 583476', 'Região 583477', 'Região 583478', 'Região 583479', 'Região 583480', 'Região 583481', 'Região 583482', 'Região 583483', 'Região 583484', 'Região 583485', 'Região 583486', 'Região 583487', 'Região 583488', 'Região 583489', 'Região 583490', 'Região 583491', 'Região 583492', 'Região 583493', 'Região 583494', 'Região 583495', 'Região 583496', 'Região 583497', 'Região 583498', 'Região 583499', 'Região 583500', 'Região 583501', 'Região 583502', 'Região 583503', 'Região 583504', 'Região 583505', 'Região 583506', 'Região 583507', 'Região 583508', 'Região 583509', 'Região 583510', 'Região 583511', 'Região 583512', 'Região 583513', 'Região 583514', 'Região 583515', 'Região 583516', 'Região 583517', 'Região 583518', 'Região 583519', 'Região 583520', 'Região 583521', 'Região 583522', 'Região 583523', 'Região 583524', 'Região 583525', 'Região 583526', 'Região 583527', 'Região 583528', 'Região 583529', 'Região 583530', 'Região 583531', 'Região 583532', 'Região 583533', 'Região 583539', 'Região 583540', 'Região 583541', 'Região 583542', 'Região 583543', 'Região 583546', 'Região 583547', 'Região 2468756', 'Região 2468757', 'Região 2468758', 'Região 2468759', 'Região 2468760', 'Região 2468761', 'Região 2468762', 'Região 2468763', 'Região 2468764', 'Região 2468765', 'Região 2468766', 'Região 2468767', 'Região 2468768', 'Região 2468769', 'Região 2468770', 'Região 2468771', 'Região 2468772', 'Região 2468773', 'Região 2468774', 'Região 2468775', 'Região 2468776', 'Região 2468777', 'Região 2468778', 'Região 2468779', 'Região 2468780', 'Região 2468781', 'Região 2468782', 'Região 2468783', 'Região 2468784', 'Região 2468785', 'Região 2468793', 'Região 2468794', 'Região 2468795', 'Região 2468796', 'Região 2468797', 'Região 2468798', 'Região 2468799', 'Região 2468800', 'Região 2468801', 'Região 2468802', 'Região 2468803', 'Região 2468804', 'Região 2468805', 'Região 2468806', 'Região 2468807', 'Região 2468808', 'Região 2468809', 'Região 2468810', 'Região 2468811', 'Região 2468812', 'Região 2468813', 'Região 2468814', 'Região 2468815', 'Região 2468816', 'Região 2468817', 'Região 2468818', 'Região 2468819', 'Região 2468820', 'Região 2468821', 'Região 2468822', 'Região 2468823', 'Região 2468824', 'Região 2468825', 'Região 2468826', 'Região 2468827', 'Região 2468828', 'Região 2468829', 'Região 2468830', 'Região 2468831', 'Região 2468832', 'Região 2468833', 'Região 2468834', 'Região 2468835', 'Região 2468836', 'Região 2468837', 'Região 2468838', 'Região 2468839', 'Região 2468840', 'Região 2468841', 'Região 2468842', 'Região 2468843', 'Região 2468844', 'Região 2468845', 'Região 2468846', 'Região 2468847', 'Região 2468848', 'Região 2468849', 'Região 2468850', 'Região 2468851', 'Região 2468852', 'Região 2468853', 'Região 2468854', 'Região 2468855', 'Região 2468856', 'Região 2468857', 'Região 2468858', 'Região 2468859', 'Região 2468860', 'Região 2468861', 'Região 2468862', 'Região 2468863', 'Região 2468864', 'Região 2468865', 'Região 2468866', 'Região 2468867', 'Região 2468868', 'Região 2468869', 'Região 2468870', 'Região 2468871', 'Região 2468872', 'Região 2468873', 'Região 2468874', 'Região 2468875', 'Região 2468876', 'Região 2468877', 'Região 2468878', 'Região 2468879', 'Região 2468880', 'Região 2468881', 'Região 2468882', 'Região 2468883', 'Região 2468884', 'Região 2468885', 'Região 2468886', 'Região 2468887', 'Região 2468888', 'Região 2468889', 'Região 2468890', 'Região 2468891', 'Região 2468892', 'Região 2468893', 'Região 2468894', 'Região 2468895', 'Região 2468896', 'Região 2468897', 'Região 2468898', 'Região 2468899', 'Região 2468900', 'Região 2468901', 'Região 2468902', 'Região 2468903', 'Região 2468904', 'Região 2468905', 'Região 2468906', 'Região 2468907', 'Região 2468908', 'Região 2468909', 'Região 2468910', 'Região 2468911', 'Região 2468912', 'Região 2468913', 'Região 2468914', 'Região 2468915', 'Região 2468916', 'Região 2468917', 'Região 2468918', 'Região 2468919', 'Região 2468920', 'Região 2468921', 'Região 2468922', 'Região 2468923', 'Região 2468924', 'Região 2468925', 'Região 2468926', 'Região 2468927', 'Região 2468928', 'Região 2468929', 'Região 2468930', 'Região 2468931', 'Região 2468932', 'Região 2468933', 'Região 2468934', 'Região 2468935', 'Região 2468936', 'Região 2468937', 'Região 2468938', 'Região 2468939', 'Região 2468940', 'Região 2468941', 'Região 2468942', 'Região 2468943', 'Região 2468944', 'Região 2468945', 'Região 2468946', 'Região 2468947', 'Região 2468948', 'Região 2468949', 'Região 2468950', 'Região 2468951', 'Região 2468952', 'Região 2468953', 'Região 2468954', 'Região 2468955', 'Região 2468956', 'Região 2468957', 'Região 2468958', 'Região 2468959', 'Região 2468960', 'Região 2468961', 'Região 2468962', 'Região 2468963', 'Região 2468964', 'Região 2468965', 'Região 2468966', 'Região 2468967', 'Região 2468968', 'Região 2468969', 'Região 2468970', 'Região 2468971', 'Região 2468972', 'Região 2468973', 'Região 2468974', 'Região 2468975', 'Região 2468976', 'Região 2468977', 'Região 2468978', 'Região 2468979', 'Região 2468980', 'Região 2468981', 'Região 2468982', 'Região 2468983', 'Região 2468984', 'Região 2468985', 'Região 2468986', 'Região 2468987', 'Região 2468988', 'Região 2468989', 'Região 2468990', 'Região 2468991', 'Região 2468992', 'Região 2468993', 'Região 2468994', 'Região 2468995', 'Região 2468996', 'Região 2468997', 'Região 2468998', 'Região 2468999', 'Região 2469000', 'Região 2469001', 'Região 2469002', 'Região 2469003', 'Região 2469004', 'Região 2469005', 'Região 2469006', 'Região 2469007', 'Região 2469008', 'Região 2469009', 'Região 2469010', 'Região 2469011', 'Região 2469012', 'Região 2469013', 'Região 2469014', 'Região 2469015', 'Região 2469016', 'Região 2469017', 'Região 2469018', 'Região 2469019', 'Região 2469020', 'Região 2469021', 'Região 2469022', 'Região 2469023', 'Região 2469024', 'Região 2469025', 'Região 2469026', 'Região 2469027', 'Região 2469028', 'Região 2469029', 'Região 2469030', 'Região 2469031', 'Região 2469032', 'Região 2469033', 'Região 2469034', 'Região 2469035', 'Região 2469036', 'Região 2469037', 'Região 2469038', 'Região 2469039', 'Região 2469040', 'Região 2469041', 'Região 2469042', 'Região 2469043', 'Região 2469044', 'Região 2469045', 'Região 2469046', 'Região 2469047', 'Região 2469048', 'Região 2469049', 'Região 2469050', 'Região 2469051', 'Região 2469052', 'Região 2469053', 'Região 2469054', 'Região 2469055', 'Região 2469056', 'Região 2469057', 'Região 2469058', 'Região 2469059', 'Região 2469060', 'Região 2469061', 'Região 2469062', 'Região 2469063', 'Região 2469064', 'Região 2469065', 'Região 2469066', 'Região 2469067', 'Região 2469068', 'Região 2469069', 'Região 2469070', 'Região 2469071', 'Região 2469072', 'Região 2469073', 'Região 2469074', 'Região 2469075', 'Região 2469076', 'Região 2469077', 'Região 2469078', 'Região 2469079', 'Região 2469080', 'Região 2469081', 'Região 2469082', 'Região 2469083', 'Região 2469084', 'Região 2469085', 'Região 2469086', 'Região 2469087', 'Região 2469088', 'Região 2469089', 'Região 2469090', 'Região 2469091', 'Região 2469092', 'Região 2469093', 'Região 2469094', 'Região 2469095', 'Região 2469096', 'Região 2469097', 'Região 2469098', 'Região 2469099', 'Região 2469100', 'Região 2469101', 'Região 2469102', 'Região 2469103', 'Região 2469104', 'Região 2469105', 'Região 2469106', 'Região 2469107', 'Região 2469108', 'Região 2469109', 'Região 2469110', 'Região 2469111', 'Região 2469112', 'Região 2469113', 'Região 2469114', 'Região 2469115', 'Região 2469116', 'Região 2469117', 'Região 2469118', 'Região 2469119', 'Região 2469120', 'Região 2469121', 'Região 2469122', 'Região 2469123', 'Região 2469124', 'Região 2469125', 'Região 2469126', 'Região 2469127', 'Região 2469128', 'Região 2469129', 'Região 2469130', 'Região 2469131', 'Região 2469132', 'Região 2469133', 'Região 2469134', 'Região 2469135', 'Região 2469136', 'Região 2469137', 'Região 2469138', 'Região 2469139', 'Região 2469140', 'Região 2469141', 'Região 2469142', 'Região 2469143', 'Região 2469144', 'Região 2469145', 'Região 2469146', 'Região 2469147', 'Região 2469148', 'Região 2469149', 'Região 2469150', 'Região 2469151', 'Região 2469152', 'Região 2469153', 'Região 2469154', 'Região 2469155', 'Região 2469156', 'Região 2469157', 'Região 2469158', 'Região 2469159', 'Região 2469160', 'Região 2469161', 'Região 2469162', 'Região 2469163', 'Região 2469164', 'Região 2469165', 'Região 2469166', 'Região 2469167', 'Região 2469168', 'Região 2469169', 'Região 2469170', 'Região 2469171', 'Região 2469172', 'Região 2469173', 'Região 2469174', 'Região 2469175', 'Região 2469176', 'Região 2469177', 'Região 2469178', 'Região 2469179', 'Região 2469180', 'Região 2469181', 'Região 2469182', 'Região 2469183', 'Região 2469184', 'Região 2469185', 'Região 2469186', 'Região 2469187', 'Região 2469188', 'Região 2469189', 'Região 2469190', 'Região 2469191', 'Região 2469192', 'Região 2469193', 'Região 2469194', 'Região 2469195', 'Região 2469196', 'Região 2469197', 'Região 2469198', 'Região 2469199', 'Região 2469200', 'Região 2469201', 'Região 2469202', 'Região 2469203', 'Região 2469204', 'Região 2469205', 'Região 2469206', 'Região 2469207', 'Região 2469208', 'Região 2469209', 'Região 2469210', 'Região 2469211', 'Região 2469212', 'Região 2469213', 'Região 2469214', 'Região 2469215', 'Região 2469216', 'Região 2469217', 'Região 2469218', 'Região 2469219', 'Região 2469220', 'Região 2469221', 'Região 2469222', 'Região 2469223', 'Região 2469224', 'Região 2469225', 'Região 2469226', 'Região 2469227', 'Região 2469228', 'Região 2469229', 'Região 2469230', 'Região 2469231', 'Região 2469232', 'Região 2469233', 'Região 2469234', 'Região 2469235', 'Região 2469236', 'Região 2469237', 'Região 2469238', 'Região 2469239', 'Região 2469240', 'Região 2469241', 'Região 2469242', 'Região 2469243', 'Região 2469244', 'Região 2469245', 'Região 2469246', 'Região 2469247', 'Região 2469248', 'Região 2469249', 'Região 2469250', 'Região 2469251', 'Região 2469252', 'Região 2469253', 'Região 2469254', 'Região 2469255', 'Região 2469256', 'Região 2469257', 'Região 2469258', 'Região 2469259', 'Região 2469260', 'Região 2469261', 'Região 2469262', 'Região 2469263', 'Região 2469264', 'Região 2469265', 'Região 2469266', 'Região 2469267', 'Região 2469268', 'Região 2469269', 'Região 2469270', 'Região 2469271', 'Região 2469272', 'Região 2469273', 'Região 2469274', 'Região 2469275', 'Região 2469276', 'Região 2469277', 'Região 2469278', 'Região 2469279', 'Região 2469280', 'Região 2469281', 'Região 2469282', 'Região 2469283', 'Região 2469284', 'Região 2469285', 'Região 2469286', 'Região 2469287', 'Região 2469288', 'Região 2469289', 'Região 2469290', 'Região 2469291', 'Região 2469292', 'Região 2469293', 'Região 2469294', 'Região 2469295', 'Região 2469296', 'Região 2469297', 'Região 2469298', 'Região 2469299', 'Região 2469300', 'Região 2469301', 'Região 2469302', 'Região 2469303', 'Região 2469304', 'Região 2469305', 'Região 2469306', 'Região 2469307', 'Região 2469308', 'Região 2469309', 'Região 2469310', 'Região 2469311', 'Região 2469312', 'Região 2469313', 'Região 2469314', 'Região 2469315', 'Região 2469316', 'Região 2469317', 'Região 2469318', 'Região 2469319', 'Região 2469320', 'Região 2469321', 'Região 2469322', 'Região 2469323', 'Região 2469324', 'Região 2469325', 'Região 2469326', 'Região 2469327', 'Região 2469328', 'Região 2469329', 'Região 2469330', 'Região 2469331', 'Região 2469332', 'Região 2469333', 'Região 2469334', 'Região 2469335', 'Região 2469336', 'Região 2469337', 'Região 2469338', 'Região 2469339', 'Região 2469340', 'Região 2469341', 'Região 2469342', 'Região 2469343', 'Região 2469344', 'Região 2469345', 'Região 2469346', 'Região 2469347', 'Região 2469348', 'Região 2469349', 'Região 2469350', 'Região 2469351', 'Região 2469352', 'Região 2469353', 'Região 2469354', 'Região 2469355', 'Região 2469356', 'Região 2469357', 'Região 2469358', 'Região 2469359', 'Região 2469360', 'Região 2469361', 'Região 2469362', 'Região 2469363', 'Região 2469364', 'Região 2469365', 'Região 2469366', 'Região 2469367', 'Região 2469368', 'Região 2469369', 'Região 2469370', 'Região 2469371', 'Região 2469372', 'Região 2469373', 'Região 2469374', 'Região 2469375', 'Região 2469376', 'Região 2469377', 'Região 2469378', 'Região 2469379', 'Região 2469380', 'Região 2469381', 'Região 2469382', 'Região 2469383', 'Região 2469384', 'Região 2469385', 'Região 2469386', 'Região 2469387', 'Região 2469388', 'Região 2469389', 'Região 2469390', 'Região 2469391', 'Região 2469392', 'Região 2469393', 'Região 2469394', 'Região 2469395', 'Região 2469396', 'Região 2469397', 'Região 2469398', 'Região 2469399', 'Região 2469400', 'Região 2469401', 'Região 2469402', 'Região 2469403', 'Região 2469404', 'Região 2469405', 'Região 2469406', 'Região 2469407', 'Região 2469408', 'Região 2469409', 'Região 2469410', 'Região 2469411', 'Região 2469412', 'Região 2469413', 'Região 2469414', 'Região 2469415', 'Região 2469416', 'Região 2469417', 'Região 2469418', 'Região 2469419', 'Região 2469420', 'Região 2469421', 'Região 2469422', 'Região 2469423', 'Região 2469424', 'Região 2469425', 'Região 2469426', 'Região 2469427', 'Região 2469428', 'Região 2469429', 'Região 2469430', 'Região 2469431', 'Região 2469432', 'Região 2469433', 'Região 2469434', 'Região 2469435', 'Região 2469436', 'Região 2469437', 'Região 2469438', 'Região 2469439', 'Região 2469440', 'Região 2469441', 'Região 2469442', 'Região 2469443', 'Região 2469444', 'Região 2469445', 'Região 2469446', 'Região 2469447', 'Região 2469448', 'Região 2469449', 'Região 2469450', 'Região 2469451', 'Região 2469452', 'Região 2469453', 'Região 2469454', 'Região 2469455', 'Região 2469456', 'Região 2469457', 'Região 2469458', 'Região 2469459', 'Região 2469460', 'Região 2469461', 'Região 2469462', 'Região 2469463', 'Região 2469464', 'Região 2469465', 'Região 2469466', 'Região 2469467', 'Região 2469468', 'Região 2469469', 'Região 2469470', 'Região 2469471', 'Região 2469472', 'Região 2469473', 'Região 2469474', 'Região 2469475', 'Região 2469476', 'Região 2469477', 'Região 2469478', 'Região 2469479', 'Região 2469480', 'Região 2469481', 'Região 2469482', 'Região 2469483', 'Região 2469484', 'Região 2469485', 'Região 2469486', 'Região 2469487', 'Região 2469488', 'Região 2469489', 'Região 2469490', 'Região 2469491', 'Região 2469492', 'Região 2469493', 'Região 2469494', 'Região 2469495', 'Região 2469496', 'Região 2469497', 'Região 2469498', 'Região 2469499', 'Região 2469500', 'Região 2469501', 'Região 2469502', 'Região 2469503', 'Região 2469504', 'Região 2469505', 'Região 2469506', 'Região 2469507', 'Região 2469508', 'Região 2469509', 'Região 2469510', 'Região 2469511', 'Região 2469512', 'Região 2469513', 'Região 2469514', 'Região 2469515', 'Região 2469516', 'Região 2469517', 'Região 2469518', 'Região 2469519', 'Região 2469520', 'Região 2469521', 'Região 2469522', 'Região 2469523', 'Região 2469524', 'Região 2469525', 'Região 2469526', 'Região 2469527', 'Região 2469528', 'Região 2469529', 'Região 2469530', 'Região 2469531', 'Região 2469532', 'Região 2469533', 'Região 2469534', 'Região 2469535', 'Região 2469536', 'Região 2469537', 'Região 2469538', 'Região 2469539', 'Região 2469540', 'Região 2469541', 'Região 2469542', 'Região 2469543', 'Região 2469544', 'Região 2469545', 'Região 2469546', 'Região 2469547', 'Região 2469548', 'Região 2469549', 'Região 2469550', 'Região 2469551', 'Região 2469552', 'Região 2469553', 'Região 2469554', 'Região 2469555', 'Região 2469556', 'Região 2469557', 'Região 2469558', 'Região 2469559', 'Região 2469560', 'Região 2469561', 'Região 2469562', 'Região 2469563', 'Região 2469564', 'Região 2469565', 'Região 2469566', 'Região 2469567', 'Região 2469568', 'Região 2469569', 'Região 2469570', 'Região 2469571', 'Região 2469572', 'Região 2469573', 'Região 2469574', 'Região 2469575', 'Região 2469576', 'Região 2991046', 'Região 2991047', 'Região 2994962', 'Região 2994963', 'Região 2994964', 'Região 2994965', 'Região 2994966', 'Região 2994967', 'Região 2994968', 'Região 2994969', 'Região 2994970', 'Região 2994971', 'Região 2994972', 'Região 2994973', 'Região 2994974', 'Região 2994976', 'Região 2994977', 'Região 2994978', 'Região 2994979', 'Região 2994980', 'Região 2994981', 'Região 2994982', 'Região 2994990', 'Região 2994991', 'Região 2994992', 'Região 2994993', 'Região 2994994', 'Região 2994995', 'Região 2994996', 'Região 2994997', 'Região 2994998', 'Região 2994999', 'Região 2995000', 'Região 2995001', 'Região 2995002', 'Região 2995003', 'Região 2995004', 'Região 2995005', 'Região 2995006', 'Região 2995007', 'Região 2995008', 'Região 2995009', 'Região 2995010', 'Região 2995011', 'Região 2995012', 'Região 2995013', 'Região 2995014', 'Região 2995015', 'Região 2995016', 'Região 2995017', 'Região 2995018', 'Região 2995019', 'Região 2995020', 'Região 2995021', 'Região 2995022', 'Região 2995023', 'Região 2995024', 'Região 2995025', 'Região 2995026', 'Região 2995027', 'Região 2995028', 'Região 2995029', 'Região 2995030', 'Região 2995031', 'Região 2995032', 'Região 2995033', 'Região 2995034', 'Região 2995035', 'Região 2995036', 'Região 2995037', 'Região 2995038', 'Região 2995039', 'Região 2995040', 'Região 2995041', 'Região 2995042', 'Região 2995043', 'Região 2995044', 'Região 2995045', 'Região 2995046', 'Região 2995047', 'Região 2995048', 'Região 2995049', 'Região 2995050', 'Região 2995051', 'Região 2995052', 'Região 2995053', 'Região 2995054', 'Região 2995055', 'Região 2995056', 'Região 2995057', 'Região 2995058', 'Região 2995059', 'Região 2995060', 'Região 2995061', 'Região 2995062', 'Região 2995063', 'Região 2995064', 'Região 2995065', 'Região 2995066', 'Região 2995067', 'Região 2995068', 'Região 2995069', 'Região 2995070', 'Região 2995071', 'Região 2995072', 'Região 2995073', 'Região 2995074', 'Região 2995075', 'Região 2995076', 'Região 2995077', 'Região 2995078', 'Região 2995079', 'Região 2995080', 'Região 2995081', 'Região 2995082', 'Região 2995083', 'Região 2995084', 'Região 2995085', 'Região 2995086', 'Região 2995087', 'Região 2995088', 'Região 2995089', 'Região 2995090', 'Região 2995091', 'Região 2995092', 'Região 2995093', 'Região 2995094', 'Região 2995095', 'Região 2995096', 'Região 2995097', 'Região 2995098', 'Região 2995099', 'Região 2995100', 'Região 2995101', 'Região 2995102', 'Região 2995103', 'Região 2995104', 'Região 2995105', 'Região 2995106', 'Região 2995107', 'Região 2995108', 'Região 2995109', 'Região 2995110', 'Região 2995111', 'Região 2995112', 'Região 2995113', 'Região 2995114', 'Região 2995115', 'Região 2995116', 'Região 2995117', 'Região 2995118', 'Região 2995119', 'Região 2995120', 'Região 2995121', 'Região 2995122', 'Região 2995123', 'Região 2995124', 'Região 2995125', 'Região 2995126', 'Região 2995127', 'Região 2995128', 'Região 2995129', 'Região 2995130', 'Região 2995131', 'Região 2995132', 'Região 2995140', 'Região 2995141', 'Região 2995142', 'Região 2995143', 'Região 2995145', 'Região 2995146', 'Região 2995147', 'Região 2995148', 'Região 2995149', 'Região 2995150', 'Região 3268365', 'Região 3268366', 'Região 3268367', 'Região 3268368', 'Região 3268369', 'Região 3268370', 'Região 3268371', 'Região 3268372', 'Região 3268373', 'Região 3268374', 'Região 3268375', 'Região 3268376', 'Região 3268377', 'Região 3798409', 'Região 3798410', 'Região 3798411', 'Região 3798412', 'Região 3798413', 'Região 3798414', 'Região 3798415', 'Região 3798416', 'Região 3798417', 'Região 3798429', 'Região 3798430', 'Região 3798431', 'Região 3798432', 'Região 3798433', 'Região 3798434', 'Região 3798435', 'Região 3798436', 'Região 3798437', 'Região 3798438', 'Região 3798439', 'Região 3798440', 'Região 3798441', 'Região 3798442', 'Região 3798443', 'Região 3798444', 'Região 3798445', 'Região 3798446', 'Região 3798447', 'Região 3798448', 'Região 3798449', 'Região 3798450', 'Região 3798451', 'Região 3798452', 'Região 3798453', 'Região 3798454', 'Região 3798455', 'Região 3798456', 'Região 3798457', 'Região 3798458', 'Região 3798459', 'Região 3798460', 'Região 3798461', 'Região 3798462', 'Região 3798463', 'Região 3798464', 'Região 3798465', 'Região 3798466', 'Região 3798467', 'Região 3798468', 'Região 3798469', 'Região 3798470', 'Região 3798471', 'Região 3798472', 'Região 3798473', 'Região 3798474', 'Região 3798475', 'Região 3798476', 'Região 3798477', 'Região 3798478', 'Região 3798479', 'Região 3798480', 'Região 3798481', 'Região 3798482', 'Região 3798483', 'Região 3798484', 'Região 3798485', 'Região 3798486', 'Região 3798487', 'Região 3798488', 'Região 3798489', 'Região 3798490', 'Região 3798491', 'Região 3798492', 'Região 3798493', 'Região 3798494', 'Região 3798495', 'Região 3798496', 'Região 3798497', 'Região 3798498', 'Região 3798499', 'Região 3798500', 'Região 3798501', 'Região 3798502', 'Região 3798503', 'Região 3798504', 'Região 3798505', 'Região 3798506', 'Região 3798507', 'Região 3798508', 'Região 3798509', 'Região 3798510', 'Região 3798511', 'Região 3798512', 'Região 3798513', 'Região 3798514', 'Região 3798515', 'Região 3798516', 'Região 3798517', 'Região 3798518', 'Região 3798519', 'Região 3798520', 'Região 3798521', 'Região 3798522', 'Região 3798523', 'Região 3798524', 'Região 3798525', 'Região 3798526', 'Região 3798527', 'Região 3798528', 'Região 3798529', 'Região 3798530', 'Região 3798531', 'Região 3798532', 'Região 3798533', 'Região 3798534', 'Região 3798535', 'Região 3798536', 'Região 3798537', 'Região 3798538', 'Região 3798539', 'Região 3798540', 'Região 3798541', 'Região 3798542', 'Região 3798543', 'Região 3798544', 'Região 3798545', 'Região 3798546', 'Região 3798547', 'Região 3798548', 'Região 3798549', 'Região 3798550', 'Região 3798551', 'Região 3798552', 'Região 3798553', 'Região 3798554', 'Região 3798555', 'Região 3798556', 'Região 3798557', 'Região 3798558', 'Região 3798559', 'Região 3798560', 'Região 3798561', 'Região 3798562', 'Região 3798563', 'Região 3798564', 'Região 3798565', 'Região 3798566', 'Região 3798567', 'Região 3798568', 'Região 3798569', 'Região 3798570', 'Região 3798571', 'Região 3798572', 'Região 3798573', 'Região 3798574', 'Região 3798575', 'Região 3798576', 'Região 3798577', 'Região 3798578', 'Região 3798579', 'Região 3798580', 'Região 3798581', 'Região 3798582', 'Região 3798583', 'Região 3798584', 'Região 3798585', 'Região 3798586', 'Região 3798587', 'Região 3798588', 'Região 3798589', 'Região 3798590', 'Região 3798591', 'Região 3798592', 'Região 3798593', 'Região 3798594', 'Região 3798595', 'Região 3798596', 'Região 3798597', 'Região 3798598', 'Região 3798599', 'Região 3798600', 'Região 3798601', 'Região 3798602', 'Região 3798603', 'Região 3798604', 'Região 3798605', 'Região 3798606', 'Região 3798607', 'Região 3798608', 'Região 3798609', 'Região 3798610', 'Região 3798611', 'Região 3798612', 'Região 3798613', 'Região 3798614', 'Região 3798615', 'Região 3798616', 'Região 3798617', 'Região 3798618', 'Região 3798619', 'Região 3798620', 'Região 3798621', 'Região 3798622', 'Região 3798623', 'Região 3798624', 'Região 3798625', 'Região 3798626', 'Região 3798627', 'Região 3798628', 'Região 3798629', 'Região 3798630', 'Região 3798631', 'Região 3798632', 'Região 3798633', 'Região 3798634', 'Região 3798635', 'Região 3798636', 'Região 3798637', 'Região 3798638', 'Região 3798639', 'Região 3798640', 'Região 3798641', 'Região 3798642', 'Região 3798643', 'Região 3798644', 'Região 3798645', 'Região 3798646', 'Região 3798647', 'Região 3798648', 'Região 3798649', 'Região 3798650', 'Região 3798651', 'Região 3798652', 'Região 3798653', 'Região 3798654', 'Região 3798655', 'Região 3798656', 'Região 3798657', 'Região 3798658', 'Região 3798659', 'Região 3798660', 'Região 3798661', 'Região 3798662', 'Região 3798663', 'Região 3798664', 'Região 3798665', 'Região 3798666', 'Região 3798667', 'Região 3798668', 'Região 3798669', 'Região 3798670', 'Região 3798671', 'Região 3798672', 'Região 3798673', 'Região 3798674', 'Região 3798675', 'Região 3798676', 'Região 3798677', 'Região 3798678', 'Região 3798679', 'Região 3798680', 'Região 3798681', 'Região 3798682', 'Região 3798683', 'Região 3798684', 'Região 3798685', 'Região 3798686', 'Região 3798687', 'Região 3798688', 'Região 3798689', 'Região 3798690', 'Região 3798691', 'Região 3798692', 'Região 3798693', 'Região 3798694', 'Região 3798695', 'Região 3798696', 'Região 3798697', 'Região 3798698', 'Região 3798699', 'Região 3798700', 'Região 3798701', 'Região 3798702', 'Região 3798703', 'Região 3798704', 'Região 3798705', 'Região 3798706', 'Região 3798707', 'Região 3798708', 'Região 3798809', 'Região 3798814', 'Região 3798815', 'Região 3798816', 'Região 3798817', 'Região 3798818', 'Região 3798819', 'Região 3798820', 'Região 3798842', 'Região 3803901', 'Região 3803902', 'Região 3803903', 'Região 3803904', 'Região 3803905', 'Região 3803906', 'Região 3803907', 'Região 3803908', 'Região 3803909', 'Região 3803910', 'Região 3803911', 'Região 3803912', 'Região 3803913', 'Região 3803914', 'Região 3803915', 'Região 3803916', 'Região 3803917', 'Região 3803918', 'Região 3803919', 'Região 3803920', 'Região 3803921', 'Região 3803922', 'Região 3803923', 'Região 3803924', 'Região 3803925', 'Região 3803926', 'Região 3803927', 'Região 3803928', 'Região 3803929', 'Região 3803930', 'Região 3803931', 'Região 3803932', 'Região 3803933', 'Região 3803934', 'Região 3803935', 'Região 3803936', 'Região 3803937', 'Região 3803938', 'Região 3803939', 'Região 3803940', 'Região 3803941', 'Região 3803942', 'Região 3803943', 'Região 3803944', 'Região 3803945', 'Região 3803946', 'Região 3803947', 'Região 3803948', 'Região 3803949', 'Região 3803950', 'Região 3803951', 'Região 3803952', 'Região 3803953', 'Região 3803954', 'Região 3803955', 'Região 3803956', 'Região 3803957', 'Região 3803958', 'Região 3803959', 'Região 3803960', 'Região 3803961', 'Região 3803962', 'Região 3803963', 'Região 3803964', 'Região 3803965', 'Região 3803966', 'Região 3803967', 'Região 3803968', 'Região 3803969', 'Região 3803970', 'Região 3803971', 'Região 3803972', 'Região 3803973', 'Região 3803974', 'Região 3803975', 'Região 3803976', 'Região 3803977', 'Região 3803978', 'Região 3803979', 'Região 3803984', 'Região 3803985', 'Região 3803986', 'Região 3803987', 'Região 3803988', 'Região 3803989', 'Região 3803990', 'Região 3803991', 'Região 3803992', 'Região 3803993', 'Região 3803994', 'Região 3803995', 'Região 3803996', 'Região 3803997', 'Região 3803998', 'Região 3803999', 'Região 3804000', 'Região 3804001', 'Região 3804002', 'Região 3804003', 'Região 3804004', 'Região 3804005', 'Região 3804006', 'Região 3804007', 'Região 3804008', 'Região 3804009', 'Região 3804010', 'Região 3804011', 'Região 3804012', 'Região 3804013', 'Região 3804014', 'Região 3804015', 'Região 3804016', 'Região 3804017', 'Região 3804018', 'Região 3804019', 'Região 3804020', 'Região 3804021', 'Região 3804022', 'Região 3804023', 'Região 3804024', 'Região 3804025', 'Região 3804026', 'Região 3804027', 'Região 3804028', 'Região 3804029', 'Região 3804030', 'Região 3804031', 'Região 3804032', 'Região 3804033', 'Região 3804034', 'Região 3804035', 'Região 3804036', 'Região 3804037', 'Região 3804038', 'Região 3804039', 'Região 3804040', 'Região 3804041', 'Região 3804042', 'Região 3804043', 'Região 3804044', 'Região 3804045', 'Região 3804046', 'Região 3804047', 'Região 3804048', 'Região 3804049', 'Região 3804050', 'Região 3804051', 'Região 3804052', 'Região 3804053', 'Região 3804054', 'Região 3804055', 'Região 3804056', 'Região 3804057', 'Região 3804058', 'Região 3804059', 'Região 3804060', 'Região 3804061', 'Região 3804062', 'Região 3804063', 'Região 3804064', 'Região 3804065', 'Região 3804066', 'Região 3804067', 'Região 3804068', 'Região 3804069', 'Região 3804070', 'Região 3804071', 'Região 3804072', 'Região 3804073', 'Região 3804074', 'Região 3804075', 'Região 3804076', 'Região 3804077', 'Região 3804078', 'Região 3804079', 'Região 3804080', 'Região 3804081', 'Região 3804082', 'Região 3804083', 'Região 3804084', 'Região 3804085', 'Região 3804086', 'Região 3804087', 'Região 3804088', 'Região 3804089', 'Região 3804090', 'Região 3804091', 'Região 3804092', 'Região 3804093', 'Região 3804094', 'Região 3804095', 'Região 3804096', 'Região 3804097', 'Região 3804098', 'Região 3804099', 'Região 3804100', 'Região 3804101', 'Região 3804102', 'Região 3804103', 'Região 3804104', 'Região 3804105', 'Região 3804106', 'Região 3804107', 'Região 3804108', 'Região 3804109', 'Região 3804110', 'Região 3804111', 'Região 3804112', 'Região 3804113', 'Região 3804114', 'Região 3804115', 'Região 3804116', 'Região 3804117', 'Região 3804118', 'Região 3804119', 'Região 3804120', 'Região 3804121', 'Região 3804122', 'Região 3804123', 'Região 3804124', 'Região 3804125', 'Região 3804126', 'Região 3804127', 'Região 3804128', 'Região 3804129', 'Região 3804130', 'Região 3804131', 'Região 3804132', 'Região 3804133', 'Região 3804134', 'Região 3804135', 'Região 3804136', 'Região 3804137', 'Região 3804138', 'Região 3804139', 'Região 3804140', 'Região 3804141', 'Região 3804142', 'Região 3804143', 'Região 3804144', 'Região 3804145', 'Região 3804146', 'Região 3804147', 'Região 3804148', 'Região 3804149', 'Região 3804150', 'Região 3804151', 'Região 3804152', 'Região 3804153', 'Região 3804154', 'Região 3804155', 'Região 3804156', 'Região 3804157', 'Região 3804158', 'Região 3804159', 'Região 3804160', 'Região 3804161', 'Região 3804162', 'Região 3804163', 'Região 3804164', 'Região 3804165', 'Região 3804166', 'Região 3804167', 'Região 3804168', 'Região 3804169', 'Região 3804170', 'Região 3804171', 'Região 3804172', 'Região 3804173', 'Região 3804174', 'Região 3804175', 'Região 3804176', 'Região 3804177', 'Região 3804178', 'Região 3804179', 'Região 3804180', 'Região 3804181', 'Região 3804182', 'Região 3804183', 'Região 3804184', 'Região 3804185', 'Região 3804186', 'Região 3804187', 'Região 3804188', 'Região 3804189', 'Região 3804190', 'Região 3804191', 'Região 3804192', 'Região 3804193', 'Região 3804194', 'Região 3804195', 'Região 3804196', 'Região 3804197', 'Região 3804198', 'Região 3804199', 'Região 3804200', 'Região 3804201', 'Região 3804202', 'Região 3804203', 'Região 3804204', 'Região 3804205', 'Região 3804206', 'Região 3804207', 'Região 3804208', 'Região 3804209', 'Região 3804210', 'Região 3804211', 'Região 3804212', 'Região 3804213', 'Região 3804214', 'Região 3804215', 'Região 3804216', 'Região 3804217', 'Região 3804218', 'Região 3804219', 'Região 3804220', 'Região 3804221', 'Região 3804222', 'Região 3804223', 'Região 3804224', 'Região 3804225', 'Região 3804226', 'Região 3804227', 'Região 3804228', 'Região 3804229', 'Região 3804230', 'Região 3804231', 'Região 3804232', 'Região 3804233', 'Região 3804234', 'Região 3804235', 'Região 3804236', 'Região 3804237', 'Região 3804238', 'Região 3804239', 'Região 3804240', 'Região 3804241', 'Região 3804242', 'Região 3804243', 'Região 3804244', 'Região 3804245', 'Região 3804246', 'Região 3804247', 'Região 3804248', 'Região 3804249', 'Região 3804250', 'Região 3804251', 'Região 3804252', 'Região 3804253', 'Região 3804254', 'Região 3804255', 'Região 3804256', 'Região 3804257', 'Região 3804258', 'Região 3804259', 'Região 3804260', 'Região 3804261', 'Região 3804262', 'Região 3804263', 'Região 3804264', 'Região 3804265', 'Região 3804266', 'Região 3804267', 'Região 3804268', 'Região 3804269', 'Região 3804270', 'Região 3804271', 'Região 3804272', 'Região 3804273', 'Região 3804274', 'Região 3804275', 'Região 3804276', 'Região 3804277', 'Região 3804278', 'Região 3804279', 'Região 3804280', 'Região 3804281', 'Região 3804282', 'Região 3804283', 'Região 3804284', 'Região 3804285', 'Região 3804286', 'Região 3804287', 'Região 3804288', 'Região 3804289', 'Região 3804290', 'Região 3804291', 'Região 3804292', 'Região 3804293', 'Região 3804294', 'Região 3804295', 'Região 3804296', 'Região 3804297', 'Região 3804298', 'Região 3804299', 'Região 3804300', 'Região 3804301', 'Região 3804302', 'Região 3804303', 'Região 3804304', 'Região 3804305', 'Região 3804306', 'Região 3804307', 'Região 3804308', 'Região 3804309', 'Região 3804310', 'Região 3804311', 'Região 3804312', 'Região 3804313', 'Região 3804314', 'Região 3804315', 'Região 3804316', 'Região 3804317', 'Região 3804318', 'Região 3804319', 'Região 3804320', 'Região 3804321', 'Região 3804322', 'Região 3804323', 'Região 3804324', 'Região 3804325', 'Região 3804326', 'Região 3804327', 'Região 3804328', 'Região 3804329', 'Região 3804330', 'Região 3804331', 'Região 3804332', 'Região 3804333', 'Região 3804334', 'Região 3804335', 'Região 3804336', 'Região 3804337', 'Região 3804338', 'Região 3804339', 'Região 3804340', 'Região 3804341', 'Região 3804342', 'Região 3804343', 'Região 3804344', 'Região 3804345', 'Região 3804346', 'Região 3804347', 'Região 3804348', 'Região 3804349', 'Região 3804350', 'Região 3804351', 'Região 3804352', 'Região 3804353', 'Região 3804354', 'Região 3804355', 'Região 3804356', 'Região 3804357', 'Região 3804358', 'Região 3804359', 'Região 3804360', 'Região 3804361', 'Região 3804362', 'Região 3804363', 'Região 3804364', 'Região 3804365', 'Região 3804366', 'Região 3804367', 'Região 3804368', 'Região 3804369', 'Região 3804370', 'Região 3804371', 'Região 3804372', 'Região 3804373', 'Região 3804374', 'Região 4476111', 'Região 4476112', 'Região 4476113', 'Região 4476114', 'Região 4476115', 'Região 4476116', 'Região 4476148', 'Região 4476149', 'Região 4476150', 'Região 4476151', 'Região 4476152', 'Região 4476153', 'Região 4476154', 'Região 4476155', 'Região 4476156', 'Região 4476157', 'Região 4476158', 'Região 4476159', 'Região 4476160', 'Região 4476161', 'Região 4476162', 'Região 4476163', 'Região 4476164', 'Região 4476165', 'Região 4476166', 'Região 4476167', 'Região 4476168', 'Região 4476169', 'Região 4476170', 'Região 4476171', 'Região 4476172', 'Região 4476173', 'Região 4476174', 'Região 4476175', 'Região 4476176', 'Região 4476177', 'Região 4476178', 'Região 4476179', 'Região 4476180', 'Região 4476181', 'Região 4476182', 'Região 4476183', 'Região 4476184', 'Região 4476185', 'Região 4476186', 'Região 4476187', 'Região 4476188', 'Região 4476189', 'Região 4476190', 'Região 4476191', 'Região 4476192', 'Região 4476193', 'Região 4476194', 'Região 4476195', 'Região 4476196', 'Região 4476197', 'Região 4476198', 'Região 4476199', 'Região 4476200', 'Região 4476201', 'Região 4476202', 'Região 4476203', 'Região 4476204', 'Região 4476205', 'Região 4476206', 'Região 4476207', 'Região 4476208', 'Região 4476209', 'Região 4476210', 'Região 4476211', 'Região 4476212', 'Região 4476213', 'Região 4476214', 'Região 4476215', 'Região 4476216', 'Região 4476217', 'Região 4476218', 'Região 4476219', 'Região 4476220', 'Região 4476221', 'Região 4476222', 'Região 4476223', 'Região 4476224', 'Região 4476225', 'Região 4476226', 'Região 4476227', 'Região 4476228', 'Região 4476229', 'Região 4476230', 'Região 4476231', 'Região 4476232', 'Região 4476233', 'Região 4476234', 'Região 4476235', 'Região 4476236', 'Região 4476237', 'Região 4476238', 'Região 4476239', 'Região 4476240', 'Região 4476241', 'Região 4476242', 'Região 4476243', 'Região 4476244', 'Região 4476245', 'Região 4476246', 'Região 4476247', 'Região 4476248', 'Região 4476249', 'Região 4476250', 'Região 4476251', 'Região 4476252', 'Região 4476253', 'Região 4476254', 'Região 4476255', 'Região 4476256', 'Região 4476257', 'Região 4476258', 'Região 4476259', 'Região 4476260', 'Região 4476261', 'Região 4476262', 'Região 4476263', 'Região 4476264', 'Região 4476265', 'Região 4476266', 'Região 4476267', 'Região 4476275', 'Região 4476279', 'Região 4476280', 'Região 4476281']\n"
     ]
    }
   ],
   "source": [
    "# Busca de Regiões ricas em GC ou AT\n",
    "gc_regioes = []\n",
    "at_regioes = []\n",
    "gc_rgcount = 0\n",
    "at_rgcount = 0\n",
    "for i in range(len(record.seq) - 999):\n",
    "    subseq = record.seq[i:i+1000]\n",
    "    if len(subseq) < 1000:\n",
    "        continue\n",
    "    gc_content = (subseq.count(\"G\") + subseq.count(\"C\")) / len(subseq) * 100\n",
    "    at_content = (subseq.count(\"A\") + subseq.count(\"T\")) / len(subseq) * 100\n",
    "    if gc_content > 70:\n",
    "        #print(f\"Região rica em GC encontrada: Região {i} (GC content: {gc_content:.2f}%)\")\n",
    "        gc_rgcount += 1\n",
    "        gc_regioes.append(f\"Região {i}\")\n",
    "    elif at_content > 70:\n",
    "        #print(f\"Região rica em AT encontrada: Região {i} (AT content: {at_content:.2f}%)\")\n",
    "        at_rgcount += 1\n",
    "        at_regioes.append(f\"Região {i}\")\n",
    "print(f\"\\nTotal de regiões ricas em GC: {gc_rgcount}\")\n",
    "print(f\"Total de regiões ricas em AT: {at_rgcount}\")\n",
    "print(f\"Regiões ricas em GC: {gc_regioes}\")\n",
    "print(f\"Regiões ricas em AT: {at_regioes}\")"
   ]
  },
  {
   "cell_type": "code",
   "execution_count": 9,
   "id": "19ca16e4",
   "metadata": {},
   "outputs": [
    {
     "name": "stdout",
     "output_type": "stream",
     "text": [
      "Contig: NC_000913.3\n",
      "Tamanho do contig: 4641652\n",
      "Número de genes anotados: 4494\n",
      "\n",
      "- Gene ID: gene-b0001\n",
      "  Localização: [189:255](+)\n",
      "  Informações extras: {'ID': ['gene-b0001'], 'Dbxref': ['ASAP:ABE-0000006', 'ECOCYC:EG11277', 'GeneID:944742'], 'Name': ['thrL'], 'gbkey': ['Gene'], 'gene': ['thrL'], 'gene_biotype': ['protein_coding'], 'gene_synonym': ['ECK0001'], 'locus_tag': ['b0001'], 'source': ['RefSeq']}\n",
      "\n",
      "- Gene ID: gene-b0002\n",
      "  Localização: [336:2799](+)\n",
      "  Informações extras: {'ID': ['gene-b0002'], 'Dbxref': ['ASAP:ABE-0000008', 'ECOCYC:EG10998', 'GeneID:945803'], 'Name': ['thrA'], 'gbkey': ['Gene'], 'gene': ['thrA'], 'gene_biotype': ['protein_coding'], 'gene_synonym': ['ECK0002', 'Hs', 'thrA1', 'thrA2', 'thrD'], 'locus_tag': ['b0002'], 'source': ['RefSeq']}\n",
      "\n",
      "- Gene ID: gene-b0003\n",
      "  Localização: [2800:3733](+)\n",
      "  Informações extras: {'ID': ['gene-b0003'], 'Dbxref': ['ASAP:ABE-0000010', 'ECOCYC:EG10999', 'GeneID:947498'], 'Name': ['thrB'], 'gbkey': ['Gene'], 'gene': ['thrB'], 'gene_biotype': ['protein_coding'], 'gene_synonym': ['ECK0003'], 'locus_tag': ['b0003'], 'source': ['RefSeq']}\n",
      "\n",
      "- Gene ID: gene-b0004\n",
      "  Localização: [3733:5020](+)\n",
      "  Informações extras: {'ID': ['gene-b0004'], 'Dbxref': ['ASAP:ABE-0000012', 'ECOCYC:EG11000', 'GeneID:945198'], 'Name': ['thrC'], 'gbkey': ['Gene'], 'gene': ['thrC'], 'gene_biotype': ['protein_coding'], 'gene_synonym': ['ECK0004'], 'locus_tag': ['b0004'], 'source': ['RefSeq']}\n",
      "\n",
      "- Gene ID: gene-b0005\n",
      "  Localização: [5233:5530](+)\n",
      "  Informações extras: {'ID': ['gene-b0005'], 'Dbxref': ['ASAP:ABE-0000015', 'ECOCYC:G6081', 'GeneID:944747'], 'Name': ['yaaX'], 'gbkey': ['Gene'], 'gene': ['yaaX'], 'gene_biotype': ['protein_coding'], 'gene_synonym': ['ECK0005'], 'locus_tag': ['b0005'], 'source': ['RefSeq']}\n",
      "\n"
     ]
    }
   ],
   "source": [
    "from BCBio import GFF\n",
    "from Bio import SeqIO\n",
    "\n",
    "# Caminho para os arquivos\n",
    "gff_file = \"../Data/ecoli.gff\"\n",
    "fasta_file = \"../Data/ecoli.fasta\"\n",
    "\n",
    "# Lê o genoma com anotações\n",
    "with open(gff_file) as gff_handle, open(fasta_file) as fasta_handle:\n",
    "    for record in GFF.parse(gff_handle, base_dict=SeqIO.to_dict(SeqIO.parse(fasta_handle, \"fasta\"))):\n",
    "        print(f\"Contig: {record.id}\")\n",
    "        print(f\"Tamanho do contig: {len(record.seq)}\")\n",
    "\n",
    "        genes = [feature for feature in record.features if feature.type == \"gene\"]\n",
    "        print(f\"Número de genes anotados: {len(genes)}\\n\")\n",
    "\n",
    "        for gene in genes[:5]:  # Mostra os 5 primeiros genes\n",
    "            print(f\"- Gene ID: {gene.qualifiers['ID'][0] if 'ID' in gene.qualifiers else 'Sem ID'}\")\n",
    "            print(f\"  Localização: {gene.location}\")\n",
    "            print(f\"  Informações extras: {gene.qualifiers}\")\n",
    "            print()\n"
   ]
  }
 ],
 "metadata": {
  "kernelspec": {
   "display_name": "base",
   "language": "python",
   "name": "python3"
  },
  "language_info": {
   "codemirror_mode": {
    "name": "ipython",
    "version": 3
   },
   "file_extension": ".py",
   "mimetype": "text/x-python",
   "name": "python",
   "nbconvert_exporter": "python",
   "pygments_lexer": "ipython3",
   "version": "3.12.7"
  }
 },
 "nbformat": 4,
 "nbformat_minor": 5
}
