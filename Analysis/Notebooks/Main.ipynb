{
 "cells": [
  {
   "cell_type": "code",
   "execution_count": null,
   "id": "e9be5614",
   "metadata": {},
   "outputs": [
    {
     "name": "stdout",
     "output_type": "stream",
     "text": [
      "🔬 Análise do Genoma de E. coli\n",
      "----------------------------------------\n",
      "ID: NC_000913.3\n",
      "Descrição: NC_000913.3 Escherichia coli str. K-12 substr. MG1655, complete genome\n",
      "Tamanho da sequência: 4,641,652 bases\n",
      "Trecho inicial: AGCTTTTCATTCTGACTGCAACGGGCAATATGTCTCTGTGTGGATTAAAAAAAGAGTGTCTGATAGCAGCTTCTGAACTGGTTACCTGCCGTGAGTAAAT...\n",
      "GC content: 50.79%\n"
     ]
    }
   ],
   "source": [
    "from Bio import SeqIO\n",
    "\n",
    "# Caminho para o arquivo FASTA\n",
    "fasta_path = \"../Data/ecoli.fasta\"\n",
    "\n",
    "# Lê a sequência do arquivo\n",
    "record = SeqIO.read(fasta_path, \"fasta\")\n",
    "\n",
    "# Informações básicas\n",
    "print(\"🔬 Análise do Genoma de E. coli\")\n",
    "print(\"-\" * 40)\n",
    "print(f\"ID: {record.id}\")\n",
    "print(f\"Descrição: {record.description}\")\n",
    "print(f\"Tamanho da sequência: {len(record.seq):,} bases\")\n",
    "print(f\"Trecho inicial: {record.seq[:100]}...\")\n",
    "\n",
    "# Cálculo de GC%\n",
    "gc_count = record.seq.count(\"G\") + record.seq.count(\"C\")\n",
    "gc_percent = gc_count / len(record.seq) * 100\n",
    "print(f\"GC content: {gc_percent:.2f}%\")\n"
   ]
  },
  {
   "cell_type": "code",
   "execution_count": 9,
   "id": "19ca16e4",
   "metadata": {},
   "outputs": [
    {
     "name": "stdout",
     "output_type": "stream",
     "text": [
      "Contig: NC_000913.3\n",
      "Tamanho do contig: 4641652\n",
      "Número de genes anotados: 4494\n",
      "\n",
      "- Gene ID: gene-b0001\n",
      "  Localização: [189:255](+)\n",
      "  Informações extras: {'ID': ['gene-b0001'], 'Dbxref': ['ASAP:ABE-0000006', 'ECOCYC:EG11277', 'GeneID:944742'], 'Name': ['thrL'], 'gbkey': ['Gene'], 'gene': ['thrL'], 'gene_biotype': ['protein_coding'], 'gene_synonym': ['ECK0001'], 'locus_tag': ['b0001'], 'source': ['RefSeq']}\n",
      "\n",
      "- Gene ID: gene-b0002\n",
      "  Localização: [336:2799](+)\n",
      "  Informações extras: {'ID': ['gene-b0002'], 'Dbxref': ['ASAP:ABE-0000008', 'ECOCYC:EG10998', 'GeneID:945803'], 'Name': ['thrA'], 'gbkey': ['Gene'], 'gene': ['thrA'], 'gene_biotype': ['protein_coding'], 'gene_synonym': ['ECK0002', 'Hs', 'thrA1', 'thrA2', 'thrD'], 'locus_tag': ['b0002'], 'source': ['RefSeq']}\n",
      "\n",
      "- Gene ID: gene-b0003\n",
      "  Localização: [2800:3733](+)\n",
      "  Informações extras: {'ID': ['gene-b0003'], 'Dbxref': ['ASAP:ABE-0000010', 'ECOCYC:EG10999', 'GeneID:947498'], 'Name': ['thrB'], 'gbkey': ['Gene'], 'gene': ['thrB'], 'gene_biotype': ['protein_coding'], 'gene_synonym': ['ECK0003'], 'locus_tag': ['b0003'], 'source': ['RefSeq']}\n",
      "\n",
      "- Gene ID: gene-b0004\n",
      "  Localização: [3733:5020](+)\n",
      "  Informações extras: {'ID': ['gene-b0004'], 'Dbxref': ['ASAP:ABE-0000012', 'ECOCYC:EG11000', 'GeneID:945198'], 'Name': ['thrC'], 'gbkey': ['Gene'], 'gene': ['thrC'], 'gene_biotype': ['protein_coding'], 'gene_synonym': ['ECK0004'], 'locus_tag': ['b0004'], 'source': ['RefSeq']}\n",
      "\n",
      "- Gene ID: gene-b0005\n",
      "  Localização: [5233:5530](+)\n",
      "  Informações extras: {'ID': ['gene-b0005'], 'Dbxref': ['ASAP:ABE-0000015', 'ECOCYC:G6081', 'GeneID:944747'], 'Name': ['yaaX'], 'gbkey': ['Gene'], 'gene': ['yaaX'], 'gene_biotype': ['protein_coding'], 'gene_synonym': ['ECK0005'], 'locus_tag': ['b0005'], 'source': ['RefSeq']}\n",
      "\n"
     ]
    }
   ],
   "source": [
    "from BCBio import GFF\n",
    "from Bio import SeqIO\n",
    "\n",
    "# Caminho para os arquivos\n",
    "gff_file = \"../Data/ecoli.gff\"\n",
    "fasta_file = \"../Data/ecoli.fasta\"\n",
    "\n",
    "# Lê o genoma com anotações\n",
    "with open(gff_file) as gff_handle, open(fasta_file) as fasta_handle:\n",
    "    for record in GFF.parse(gff_handle, base_dict=SeqIO.to_dict(SeqIO.parse(fasta_handle, \"fasta\"))):\n",
    "        print(f\"Contig: {record.id}\")\n",
    "        print(f\"Tamanho do contig: {len(record.seq)}\")\n",
    "\n",
    "        genes = [feature for feature in record.features if feature.type == \"gene\"]\n",
    "        print(f\"Número de genes anotados: {len(genes)}\\n\")\n",
    "\n",
    "        for gene in genes[:5]:  # Mostra os 5 primeiros genes\n",
    "            print(f\"- Gene ID: {gene.qualifiers['ID'][0] if 'ID' in gene.qualifiers else 'Sem ID'}\")\n",
    "            print(f\"  Localização: {gene.location}\")\n",
    "            print(f\"  Informações extras: {gene.qualifiers}\")\n",
    "            print()\n"
   ]
  }
 ],
 "metadata": {
  "kernelspec": {
   "display_name": "base",
   "language": "python",
   "name": "python3"
  },
  "language_info": {
   "codemirror_mode": {
    "name": "ipython",
    "version": 3
   },
   "file_extension": ".py",
   "mimetype": "text/x-python",
   "name": "python",
   "nbconvert_exporter": "python",
   "pygments_lexer": "ipython3",
   "version": "3.12.7"
  }
 },
 "nbformat": 4,
 "nbformat_minor": 5
}
